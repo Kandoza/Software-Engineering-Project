University = "University of Namibia"
CarsList= ["BMW", "Corolla", "Truck", "Merc", "Audi"]
